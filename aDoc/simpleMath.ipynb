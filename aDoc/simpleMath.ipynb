{
 "metadata": {
  "language_info": {
   "codemirror_mode": {
    "name": "ipython",
    "version": 3
   },
   "file_extension": ".py",
   "mimetype": "text/x-python",
   "name": "python",
   "nbconvert_exporter": "python",
   "pygments_lexer": "ipython3",
   "version": "3.9.1-final"
  },
  "orig_nbformat": 2,
  "kernelspec": {
   "name": "python3",
   "display_name": "Python 3",
   "language": "python"
  }
 },
 "nbformat": 4,
 "nbformat_minor": 2,
 "cells": [
  {
   "source": [
    "# Calculate volume of a sphere with radius r.\n",
    "\n",
    "$$\n",
    "V = \\frac 4 3 \\pi r^3\n",
    "$$"
   ],
   "cell_type": "code",
   "metadata": {},
   "execution_count": null,
   "outputs": []
  },
  {
   "cell_type": "code",
   "execution_count": 1,
   "metadata": {},
   "outputs": [
    {
     "output_type": "stream",
     "name": "stdout",
     "text": [
      "33.510321638291124\n"
     ]
    }
   ],
   "source": [
    "from math import pi\n",
    "\n",
    "def volume(r):\n",
    "    return 4 * pi * r**3 / 3\n",
    "\n",
    "print(volume(2))"
   ]
  },
  {
   "cell_type": "code",
   "execution_count": null,
   "metadata": {},
   "outputs": [],
   "source": [
    "* Notice that the input value can be either int or float."
   ]
  }
 ]
}