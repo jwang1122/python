{
 "cells": [
  {
   "source": [
    "# Triangule numbers\n",
    ">Use a for loop to compute the 10th triangular number. The nth triangular number is defined as 1+2+3+...+n. (You can also compute the nth triangular number as n*(n+1)/2. Use this formula to double-check that your loop is correct.)\n",
    "\n",
    "$$\n",
    "T_n = \\sum_{k=1}^n k \\tag{1}\n",
    "$$\n",
    "\n",
    "$$ \n",
    "T(n) = \\frac {n(n+1)} 2 \\tag{2}\n",
    "$$\n",
    "\n",
    "Hint: This outline is an almost-complete solution. You only have to replace each ellipsis by an expression."
   ],
   "cell_type": "markdown",
   "metadata": {}
  },
  {
   "cell_type": "code",
   "execution_count": 3,
   "metadata": {},
   "outputs": [
    {
     "name": "stdout",
     "output_type": "stream",
     "text": [
      "Triangular number 10 via loop: 55\n",
      "Triangular number 10 via formula: 55.0\n"
     ]
    }
   ],
   "source": [
    "n = 10\n",
    "triangular = 0\n",
    "for i in ...:\n",
    "    triangular = ...\n",
    "print (\"Triangular number\", n, \"via loop:\", triangular)\n",
    "print (\"Triangular number\", n, \"via formula:\", ...)"
   ]
  },
  {
   "cell_type": "code",
   "execution_count": null,
   "metadata": {},
   "outputs": [],
   "source": []
  }
 ],
 "metadata": {
  "kernelspec": {
   "display_name": "Python 3",
   "language": "python",
   "name": "python3"
  },
  "language_info": {
   "codemirror_mode": {
    "name": "ipython",
    "version": 3
   },
   "file_extension": ".py",
   "mimetype": "text/x-python",
   "name": "python",
   "nbconvert_exporter": "python",
   "pygments_lexer": "ipython3",
   "version": "3.9.1"
  }
 },
 "nbformat": 4,
 "nbformat_minor": 2
}