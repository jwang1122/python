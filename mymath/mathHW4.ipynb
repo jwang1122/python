{
 "metadata": {
  "language_info": {
   "codemirror_mode": {
    "name": "ipython",
    "version": 3
   },
   "file_extension": ".py",
   "mimetype": "text/x-python",
   "name": "python",
   "nbconvert_exporter": "python",
   "pygments_lexer": "ipython3",
   "version": "3.9.1-final"
  },
  "orig_nbformat": 2,
  "kernelspec": {
   "name": "python3",
   "display_name": "Python 3",
   "language": "python"
  }
 },
 "nbformat": 4,
 "nbformat_minor": 2,
 "cells": [
  {
   "source": [
    "* Write python program to calculate volume of sphere by given radius r.\n",
    "\n",
    "$$\n",
    "V = \\frac 4 3 \\pi r^3\n",
    "$$\n",
    "\n",
    "![Sphere](sphere.jpg)\n",
    "\n",
    "Hint: This outline is an almost-complete solution. You only have to replace the ellipsis by an expression. "
   ],
   "cell_type": "markdown",
   "metadata": {}
  },
  {
   "cell_type": "code",
   "execution_count": 2,
   "metadata": {},
   "outputs": [
    {
     "output_type": "execute_result",
     "data": {
      "text/plain": [
       "33.510321638291124"
      ]
     },
     "metadata": {},
     "execution_count": 2
    }
   ],
   "source": [
    "from math import pi\n",
    "\n",
    "def sphere_volume(r):\n",
    "    return ...\n",
    "\n",
    "sphere_volume(2.0)"
   ]
  },
  {
   "cell_type": "code",
   "execution_count": null,
   "metadata": {},
   "outputs": [],
   "source": [
    "r = 2\n",
    "expected volume is 33.510321638291124"
   ]
  }
 ]
}