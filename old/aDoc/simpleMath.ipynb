{
 "cells": [
  {
   "source": [
    "## Calculate volume of a sphere with radius r.\n",
    "\n",
    "$$\n",
    "V = \\frac 4 3 \\pi r^3\n",
    "$$\n",
    "\n",
    "* Hint: This outline is an almost-complete solution. You only have to replace the ellipsis by an expression. The number below shows expected value."
   ],
   "cell_type": "markdown",
   "metadata": {}
  },
  {
   "cell_type": "code",
   "execution_count": 1,
   "metadata": {},
   "outputs": [
    {
     "name": "stdout",
     "output_type": "stream",
     "text": [
      "33.510321638291124\n"
     ]
    }
   ],
   "source": [
    "from math import pi\n",
    "\n",
    "def volume(r):\n",
    "    return ...\n",
    "\n",
    "print(volume(2))"
   ]
  },
  {
   "cell_type": "code",
   "execution_count": null,
   "metadata": {},
   "outputs": [],
   "source": [
    "* Notice that the input value can be either int or float."
   ]
  }
 ],
 "metadata": {
  "kernelspec": {
   "display_name": "Python 3",
   "language": "python",
   "name": "python3"
  },
  "language_info": {
   "codemirror_mode": {
    "name": "ipython",
    "version": 3
   },
   "file_extension": ".py",
   "mimetype": "text/x-python",
   "name": "python",
   "nbconvert_exporter": "python",
   "pygments_lexer": "ipython3",
   "version": "3.9.1"
  }
 },
 "nbformat": 4,
 "nbformat_minor": 2
}