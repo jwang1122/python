{
 "cells": [
  {
   "cell_type": "markdown",
   "metadata": {},
   "source": [
    "* Write python program to read \"students.csv\" file, and print out the result.\n",
    "\n",
    "The file contents shown below:\n",
    "\n",
    "```csv\n",
    "id,First name,Last name,Score\n",
    "1423,John,Wang,94\n",
    "3543,Helen,Yang,100\n",
    "8543,David,Martin,60\n",
    "3842,Tarek,Martin,30\n",
    "2575,Thomas,Johnson,87\n",
    "9734,Alen,Geoge,91\n",
    "```\n",
    "\n",
    "* Hint: This outline is an almost-complete solution. You only have to replace each ellipsis ... by an expression. "
   ]
  },
  {
   "cell_type": "code",
   "execution_count": null,
   "metadata": {},
   "outputs": [],
   "source": [
    "with open(...) as ...:\n",
    "    text = ...\n",
    "print(...)\n"
   ]
  },
  {
   "cell_type": "markdown",
   "metadata": {},
   "source": [
    "Expected output:\n",
    "\n",
    "```\n",
    "id,First name,Last name,Score\n",
    "1423,John,Wang,94\n",
    "3543,Helen,Yang,100\n",
    "8543,David,Martin,60\n",
    "3842,Tarek,Martin,30\n",
    "2575,Thomas,Johnson,87\n",
    "9734,Alen,Geoge,91\n",
    "```"
   ]
  }
 ],
 "metadata": {
  "kernelspec": {
   "display_name": "Python 3",
   "language": "python",
   "name": "python3"
  },
  "language_info": {
   "codemirror_mode": {
    "name": "ipython",
    "version": 3
   },
   "file_extension": ".py",
   "mimetype": "text/x-python",
   "name": "python",
   "nbconvert_exporter": "python",
   "pygments_lexer": "ipython3",
   "version": "3.9.1"
  }
 },
 "nbformat": 4,
 "nbformat_minor": 2
}
