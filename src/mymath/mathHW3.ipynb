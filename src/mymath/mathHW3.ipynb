{
 "cells": [
  {
   "source": [
    "## Euler's Constant: \n",
    "$$\n",
    "e = \\lim_{n=0}^{\\infty} \\left(\\frac 1 {n!}\\right) = 2.718281828459045235360287471352662497757247...\n",
    "$$\n",
    "\n",
    "* Sums of recprocals of factorials Compute the following value with n=10:\n",
    "\n",
    "$$\n",
    "1+\\frac 1 {1!}+\\frac 1 {2!}+\\frac 1 {3!}+\\frac 1 {4!}+\\frac 1 {5!}+\\frac 1 {6!}+\\frac 1 {7!}+\\frac 1 {8!}+\\frac 1 {9!}+\\frac 1 {10!}\n",
    "$$\n",
    "this is same as\n",
    "$$\n",
    "1+\\frac 1 {1}+\\frac 1 {1\\cdot2}+\\frac 1 {1\\cdot 2 \\cdot 3}+\\frac 1 {1 \\cdot 2 \\cdot 3 \\cdot 4}+\\frac 1 {1 \\cdot 2 \\cdot 3 \\cdot 4\\cdot 5}+\\frac 1 {1 \\cdot 2 \\cdot 3 \\cdot 4\\cdot 5\\cdot 6}+\\frac 1 {1 \\cdot 2 \\cdot 3 \\cdot 4\\cdot 5\\cdot 6\\cdot 7}+\\frac 1 {1 \\cdot 2 \\cdot 3 \\cdot 4\\cdot 5\\cdot 6\\cdot 7\\cdot 8}+\\frac 1 {1 \\cdot 2 \\cdot 3 \\cdot 4\\cdot 5\\cdot 6\\cdot 7\\cdot 8\\cdot 9}+\\frac 1 {1 \\cdot 2 \\cdot 3 \\cdot 4\\cdot 5\\cdot 6\\cdot 7\\cdot 8\\cdot 9\\cdot 10}\n",
    "$$\n",
    "\n",
    "\n",
    "\n",
    "* Hint: This outline is an almost-complete solution. You only have to replace each ellipsis by an expression."
   ],
   "cell_type": "markdown",
   "metadata": {}
  },
  {
   "cell_type": "code",
   "execution_count": 1,
   "metadata": {},
   "outputs": [
    {
     "name": "stdout",
     "output_type": "stream",
     "text": [
      "2.7182815255731922\n"
     ]
    }
   ],
   "source": [
    "n = 10\n",
    "f = 1\n",
    "sum = 0\n",
    "for j in ...:\n",
    "    for i in ...:\n",
    "        ...\n",
    "    sum += 1/f\n",
    "    f = 1\n",
    "print(sum)"
   ]
  },
  {
   "cell_type": "code",
   "execution_count": null,
   "metadata": {},
   "outputs": [],
   "source": []
  }
 ],
 "metadata": {
  "kernelspec": {
   "display_name": "Python 3",
   "language": "python",
   "name": "python3"
  },
  "language_info": {
   "codemirror_mode": {
    "name": "ipython",
    "version": 3
   },
   "file_extension": ".py",
   "mimetype": "text/x-python",
   "name": "python",
   "nbconvert_exporter": "python",
   "pygments_lexer": "ipython3",
   "version": "3.9.1"
  }
 },
 "nbformat": 4,
 "nbformat_minor": 2
}